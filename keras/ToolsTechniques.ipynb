{
 "cells": [
  {
   "cell_type": "markdown",
   "metadata": {},
   "source": [
    "# Tools & Techniques: Neural Networks Using Keras"
   ]
  },
  {
   "cell_type": "code",
   "execution_count": 1,
   "metadata": {},
   "outputs": [],
   "source": [
    "import pandas as pd\n",
    "import numpy as np"
   ]
  },
  {
   "cell_type": "markdown",
   "metadata": {},
   "source": [
    "## Read in Housing Data\n",
    "* Data collected from Realtor.com.\n",
    "* Houses sold during June 2020 in eastern Loudoun County, VA.\n",
    "* For our demonstration, the data has already been cleaned.\n",
    "* Mean Price: ~ $520,000"
   ]
  },
  {
   "cell_type": "code",
   "execution_count": 2,
   "metadata": {},
   "outputs": [],
   "source": [
    "df = pd.read_csv(\"tools_techniques.csv\")"
   ]
  },
  {
   "cell_type": "code",
   "execution_count": 3,
   "metadata": {},
   "outputs": [
    {
     "data": {
      "text/html": [
       "<div>\n",
       "<style scoped>\n",
       "    .dataframe tbody tr th:only-of-type {\n",
       "        vertical-align: middle;\n",
       "    }\n",
       "\n",
       "    .dataframe tbody tr th {\n",
       "        vertical-align: top;\n",
       "    }\n",
       "\n",
       "    .dataframe thead th {\n",
       "        text-align: right;\n",
       "    }\n",
       "</style>\n",
       "<table border=\"1\" class=\"dataframe\">\n",
       "  <thead>\n",
       "    <tr style=\"text-align: right;\">\n",
       "      <th></th>\n",
       "      <th>Beds</th>\n",
       "      <th>SqFt</th>\n",
       "      <th>Built</th>\n",
       "      <th>Garage</th>\n",
       "      <th>FullBaths</th>\n",
       "      <th>HalfBaths</th>\n",
       "      <th>LotSqFt</th>\n",
       "      <th>AboveMeanPrice</th>\n",
       "    </tr>\n",
       "  </thead>\n",
       "  <tbody>\n",
       "    <tr>\n",
       "      <th>0</th>\n",
       "      <td>3</td>\n",
       "      <td>2336</td>\n",
       "      <td>2004</td>\n",
       "      <td>2</td>\n",
       "      <td>2</td>\n",
       "      <td>1</td>\n",
       "      <td>2178</td>\n",
       "      <td>0</td>\n",
       "    </tr>\n",
       "    <tr>\n",
       "      <th>1</th>\n",
       "      <td>4</td>\n",
       "      <td>2106</td>\n",
       "      <td>2005</td>\n",
       "      <td>2</td>\n",
       "      <td>2</td>\n",
       "      <td>1</td>\n",
       "      <td>2178</td>\n",
       "      <td>0</td>\n",
       "    </tr>\n",
       "    <tr>\n",
       "      <th>2</th>\n",
       "      <td>3</td>\n",
       "      <td>1410</td>\n",
       "      <td>1999</td>\n",
       "      <td>1</td>\n",
       "      <td>2</td>\n",
       "      <td>0</td>\n",
       "      <td>3049</td>\n",
       "      <td>0</td>\n",
       "    </tr>\n",
       "    <tr>\n",
       "      <th>3</th>\n",
       "      <td>3</td>\n",
       "      <td>1769</td>\n",
       "      <td>1994</td>\n",
       "      <td>1</td>\n",
       "      <td>2</td>\n",
       "      <td>1</td>\n",
       "      <td>1742</td>\n",
       "      <td>0</td>\n",
       "    </tr>\n",
       "    <tr>\n",
       "      <th>4</th>\n",
       "      <td>4</td>\n",
       "      <td>2283</td>\n",
       "      <td>1999</td>\n",
       "      <td>2</td>\n",
       "      <td>3</td>\n",
       "      <td>1</td>\n",
       "      <td>2614</td>\n",
       "      <td>0</td>\n",
       "    </tr>\n",
       "    <tr>\n",
       "      <th>...</th>\n",
       "      <td>...</td>\n",
       "      <td>...</td>\n",
       "      <td>...</td>\n",
       "      <td>...</td>\n",
       "      <td>...</td>\n",
       "      <td>...</td>\n",
       "      <td>...</td>\n",
       "      <td>...</td>\n",
       "    </tr>\n",
       "    <tr>\n",
       "      <th>542</th>\n",
       "      <td>4</td>\n",
       "      <td>2780</td>\n",
       "      <td>1967</td>\n",
       "      <td>2</td>\n",
       "      <td>3</td>\n",
       "      <td>1</td>\n",
       "      <td>47480</td>\n",
       "      <td>1</td>\n",
       "    </tr>\n",
       "    <tr>\n",
       "      <th>543</th>\n",
       "      <td>4</td>\n",
       "      <td>3430</td>\n",
       "      <td>2013</td>\n",
       "      <td>0</td>\n",
       "      <td>4</td>\n",
       "      <td>1</td>\n",
       "      <td>43560</td>\n",
       "      <td>1</td>\n",
       "    </tr>\n",
       "    <tr>\n",
       "      <th>544</th>\n",
       "      <td>3</td>\n",
       "      <td>1346</td>\n",
       "      <td>1977</td>\n",
       "      <td>0</td>\n",
       "      <td>2</td>\n",
       "      <td>0</td>\n",
       "      <td>15682</td>\n",
       "      <td>0</td>\n",
       "    </tr>\n",
       "    <tr>\n",
       "      <th>545</th>\n",
       "      <td>5</td>\n",
       "      <td>3696</td>\n",
       "      <td>2002</td>\n",
       "      <td>2</td>\n",
       "      <td>3</td>\n",
       "      <td>1</td>\n",
       "      <td>11326</td>\n",
       "      <td>1</td>\n",
       "    </tr>\n",
       "    <tr>\n",
       "      <th>546</th>\n",
       "      <td>4</td>\n",
       "      <td>2491</td>\n",
       "      <td>1974</td>\n",
       "      <td>0</td>\n",
       "      <td>3</td>\n",
       "      <td>0</td>\n",
       "      <td>10019</td>\n",
       "      <td>1</td>\n",
       "    </tr>\n",
       "  </tbody>\n",
       "</table>\n",
       "<p>547 rows × 8 columns</p>\n",
       "</div>"
      ],
      "text/plain": [
       "     Beds  SqFt  Built  Garage  FullBaths  HalfBaths  LotSqFt  AboveMeanPrice\n",
       "0       3  2336   2004       2          2          1     2178               0\n",
       "1       4  2106   2005       2          2          1     2178               0\n",
       "2       3  1410   1999       1          2          0     3049               0\n",
       "3       3  1769   1994       1          2          1     1742               0\n",
       "4       4  2283   1999       2          3          1     2614               0\n",
       "..    ...   ...    ...     ...        ...        ...      ...             ...\n",
       "542     4  2780   1967       2          3          1    47480               1\n",
       "543     4  3430   2013       0          4          1    43560               1\n",
       "544     3  1346   1977       0          2          0    15682               0\n",
       "545     5  3696   2002       2          3          1    11326               1\n",
       "546     4  2491   1974       0          3          0    10019               1\n",
       "\n",
       "[547 rows x 8 columns]"
      ]
     },
     "execution_count": 3,
     "metadata": {},
     "output_type": "execute_result"
    }
   ],
   "source": [
    "df"
   ]
  },
  {
   "cell_type": "code",
   "execution_count": 4,
   "metadata": {},
   "outputs": [],
   "source": [
    "dataset = df.values"
   ]
  },
  {
   "cell_type": "code",
   "execution_count": 5,
   "metadata": {},
   "outputs": [
    {
     "data": {
      "text/plain": [
       "array([[    3,  2336,  2004, ...,     1,  2178,     0],\n",
       "       [    4,  2106,  2005, ...,     1,  2178,     0],\n",
       "       [    3,  1410,  1999, ...,     0,  3049,     0],\n",
       "       ...,\n",
       "       [    3,  1346,  1977, ...,     0, 15682,     0],\n",
       "       [    5,  3696,  2002, ...,     1, 11326,     1],\n",
       "       [    4,  2491,  1974, ...,     0, 10019,     1]])"
      ]
     },
     "execution_count": 5,
     "metadata": {},
     "output_type": "execute_result"
    }
   ],
   "source": [
    "dataset"
   ]
  },
  {
   "cell_type": "code",
   "execution_count": 6,
   "metadata": {},
   "outputs": [],
   "source": [
    "X = dataset[:, 0:7]"
   ]
  },
  {
   "cell_type": "code",
   "execution_count": 7,
   "metadata": {},
   "outputs": [],
   "source": [
    "Y = dataset[:,7]"
   ]
  },
  {
   "cell_type": "markdown",
   "metadata": {},
   "source": [
    "## Normalize Data"
   ]
  },
  {
   "cell_type": "code",
   "execution_count": 8,
   "metadata": {},
   "outputs": [],
   "source": [
    "from sklearn import preprocessing"
   ]
  },
  {
   "cell_type": "code",
   "execution_count": 9,
   "metadata": {},
   "outputs": [
    {
     "data": {
      "text/plain": [
       "array([[0.4       , 0.16361181, 0.86885246, ..., 0.2       , 1.        ,\n",
       "        0.00172891],\n",
       "       [0.6       , 0.14142389, 0.87704918, ..., 0.2       , 1.        ,\n",
       "        0.00172891],\n",
       "       [0.4       , 0.0742813 , 0.82786885, ..., 0.2       , 0.        ,\n",
       "        0.00242031],\n",
       "       ...,\n",
       "       [0.4       , 0.06810727, 0.64754098, ..., 0.2       , 0.        ,\n",
       "        0.01244845],\n",
       "       [0.8       , 0.29480996, 0.85245902, ..., 0.4       , 1.        ,\n",
       "        0.00899064],\n",
       "       [0.6       , 0.17856454, 0.62295082, ..., 0.4       , 0.        ,\n",
       "        0.00795313]])"
      ]
     },
     "execution_count": 9,
     "metadata": {},
     "output_type": "execute_result"
    }
   ],
   "source": [
    "min_max_scaler = preprocessing.MinMaxScaler()\n",
    "X_scale = min_max_scaler.fit_transform(X)\n",
    "X_scale"
   ]
  },
  {
   "cell_type": "markdown",
   "metadata": {},
   "source": [
    "## Partition Data"
   ]
  },
  {
   "cell_type": "code",
   "execution_count": 10,
   "metadata": {},
   "outputs": [],
   "source": [
    "from sklearn.model_selection import train_test_split"
   ]
  },
  {
   "cell_type": "code",
   "execution_count": 11,
   "metadata": {},
   "outputs": [
    {
     "name": "stdout",
     "output_type": "stream",
     "text": [
      "(382, 7) (82, 7) (83, 7) (382,) (82,) (83,)\n"
     ]
    }
   ],
   "source": [
    "X_train, X_val_and_test, Y_train, Y_val_and_test = train_test_split(X_scale, Y, test_size=0.3)\n",
    "X_val, X_test, Y_val, Y_test = train_test_split(X_val_and_test, Y_val_and_test, test_size=0.5)\n",
    "print(X_train.shape, X_val.shape, X_test.shape, Y_train.shape, Y_val.shape, Y_test.shape)"
   ]
  },
  {
   "cell_type": "markdown",
   "metadata": {},
   "source": [
    "## Model Building"
   ]
  },
  {
   "cell_type": "code",
   "execution_count": 12,
   "metadata": {},
   "outputs": [],
   "source": [
    "from keras.models import Sequential\n",
    "from keras.layers import Dense"
   ]
  },
  {
   "cell_type": "code",
   "execution_count": 13,
   "metadata": {},
   "outputs": [],
   "source": [
    "model = Sequential([\n",
    "    Dense(16, activation='relu', input_shape=(7,)), #hidden layer  ***\n",
    "    Dense(1, activation='sigmoid')]) #output layer (1 neuron)"
   ]
  },
  {
   "cell_type": "code",
   "execution_count": 14,
   "metadata": {},
   "outputs": [],
   "source": [
    "model.compile(optimizer='sgd',\n",
    "              loss='binary_crossentropy',\n",
    "              metrics=['accuracy'])"
   ]
  },
  {
   "cell_type": "code",
   "execution_count": 15,
   "metadata": {},
   "outputs": [
    {
     "name": "stdout",
     "output_type": "stream",
     "text": [
      "Epoch 1/100\n",
      "24/24 [==============================] - 0s 13ms/step - loss: 0.7133 - accuracy: 0.3691 - val_loss: 0.6971 - val_accuracy: 0.5244\n",
      "Epoch 2/100\n",
      "24/24 [==============================] - 0s 6ms/step - loss: 0.7079 - accuracy: 0.4005 - val_loss: 0.6923 - val_accuracy: 0.5366\n",
      "Epoch 3/100\n",
      "24/24 [==============================] - ETA: 0s - loss: 0.7044 - accuracy: 0.43 - 0s 19ms/step - loss: 0.7030 - accuracy: 0.4188 - val_loss: 0.6880 - val_accuracy: 0.5488\n",
      "Epoch 4/100\n",
      "24/24 [==============================] - 0s 7ms/step - loss: 0.6982 - accuracy: 0.4634 - val_loss: 0.6840 - val_accuracy: 0.5976\n",
      "Epoch 5/100\n",
      "24/24 [==============================] - 0s 9ms/step - loss: 0.6939 - accuracy: 0.4869 - val_loss: 0.6802 - val_accuracy: 0.5976\n",
      "Epoch 6/100\n",
      "24/24 [==============================] - 0s 16ms/step - loss: 0.6898 - accuracy: 0.5026 - val_loss: 0.6765 - val_accuracy: 0.5854\n",
      "Epoch 7/100\n",
      "24/24 [==============================] - 0s 12ms/step - loss: 0.6860 - accuracy: 0.5340 - val_loss: 0.6728 - val_accuracy: 0.6341\n",
      "Epoch 8/100\n",
      "24/24 [==============================] - 0s 15ms/step - loss: 0.6820 - accuracy: 0.5785 - val_loss: 0.6691 - val_accuracy: 0.6585\n",
      "Epoch 9/100\n",
      "24/24 [==============================] - 0s 11ms/step - loss: 0.6783 - accuracy: 0.6047 - val_loss: 0.6655 - val_accuracy: 0.6707\n",
      "Epoch 10/100\n",
      "24/24 [==============================] - 0s 20ms/step - loss: 0.6744 - accuracy: 0.6230 - val_loss: 0.6617 - val_accuracy: 0.6707\n",
      "Epoch 11/100\n",
      "24/24 [==============================] - 0s 14ms/step - loss: 0.6705 - accuracy: 0.6309 - val_loss: 0.6577 - val_accuracy: 0.6707\n",
      "Epoch 12/100\n",
      "24/24 [==============================] - 0s 15ms/step - loss: 0.6661 - accuracy: 0.6466 - val_loss: 0.6532 - val_accuracy: 0.6951\n",
      "Epoch 13/100\n",
      "24/24 [==============================] - 0s 17ms/step - loss: 0.6612 - accuracy: 0.6649 - val_loss: 0.6479 - val_accuracy: 0.6951\n",
      "Epoch 14/100\n",
      "24/24 [==============================] - 0s 18ms/step - loss: 0.6550 - accuracy: 0.7094 - val_loss: 0.6416 - val_accuracy: 0.7561\n",
      "Epoch 15/100\n",
      "24/24 [==============================] - 0s 11ms/step - loss: 0.6479 - accuracy: 0.7408 - val_loss: 0.6342 - val_accuracy: 0.8415\n",
      "Epoch 16/100\n",
      "24/24 [==============================] - 0s 9ms/step - loss: 0.6407 - accuracy: 0.7827 - val_loss: 0.6269 - val_accuracy: 0.8659\n",
      "Epoch 17/100\n",
      "24/24 [==============================] - 0s 11ms/step - loss: 0.6341 - accuracy: 0.8115 - val_loss: 0.6204 - val_accuracy: 0.8902\n",
      "Epoch 18/100\n",
      "24/24 [==============================] - 1s 24ms/step - loss: 0.6281 - accuracy: 0.8272 - val_loss: 0.6128 - val_accuracy: 0.8902\n",
      "Epoch 19/100\n",
      "24/24 [==============================] - 0s 18ms/step - loss: 0.6211 - accuracy: 0.8194 - val_loss: 0.6046 - val_accuracy: 0.8780\n",
      "Epoch 20/100\n",
      "24/24 [==============================] - 0s 11ms/step - loss: 0.6149 - accuracy: 0.8168 - val_loss: 0.5982 - val_accuracy: 0.8780\n",
      "Epoch 21/100\n",
      "24/24 [==============================] - 0s 12ms/step - loss: 0.6096 - accuracy: 0.8220 - val_loss: 0.5930 - val_accuracy: 0.8780\n",
      "Epoch 22/100\n",
      "24/24 [==============================] - 0s 10ms/step - loss: 0.6047 - accuracy: 0.8220 - val_loss: 0.5883 - val_accuracy: 0.8780\n",
      "Epoch 23/100\n",
      "24/24 [==============================] - 0s 12ms/step - loss: 0.6002 - accuracy: 0.8168 - val_loss: 0.5835 - val_accuracy: 0.8902\n",
      "Epoch 24/100\n",
      "24/24 [==============================] - 0s 9ms/step - loss: 0.5958 - accuracy: 0.8194 - val_loss: 0.5786 - val_accuracy: 0.8902\n",
      "Epoch 25/100\n",
      "24/24 [==============================] - 0s 12ms/step - loss: 0.5914 - accuracy: 0.8272 - val_loss: 0.5740 - val_accuracy: 0.8902\n",
      "Epoch 26/100\n",
      "24/24 [==============================] - 0s 9ms/step - loss: 0.5871 - accuracy: 0.8325 - val_loss: 0.5694 - val_accuracy: 0.8902\n",
      "Epoch 27/100\n",
      "24/24 [==============================] - 0s 13ms/step - loss: 0.5827 - accuracy: 0.8298 - val_loss: 0.5646 - val_accuracy: 0.8902\n",
      "Epoch 28/100\n",
      "24/24 [==============================] - 0s 6ms/step - loss: 0.5784 - accuracy: 0.8351 - val_loss: 0.5601 - val_accuracy: 0.8902\n",
      "Epoch 29/100\n",
      "24/24 [==============================] - 0s 7ms/step - loss: 0.5741 - accuracy: 0.8272 - val_loss: 0.5551 - val_accuracy: 0.8902\n",
      "Epoch 30/100\n",
      "24/24 [==============================] - 0s 11ms/step - loss: 0.5697 - accuracy: 0.8351 - val_loss: 0.5503 - val_accuracy: 0.9024\n",
      "Epoch 31/100\n",
      "24/24 [==============================] - 0s 12ms/step - loss: 0.5653 - accuracy: 0.8325 - val_loss: 0.5456 - val_accuracy: 0.9024\n",
      "Epoch 32/100\n",
      "24/24 [==============================] - 0s 20ms/step - loss: 0.5609 - accuracy: 0.8403 - val_loss: 0.5408 - val_accuracy: 0.9024\n",
      "Epoch 33/100\n",
      "24/24 [==============================] - 0s 14ms/step - loss: 0.5566 - accuracy: 0.8377 - val_loss: 0.5362 - val_accuracy: 0.9024\n",
      "Epoch 34/100\n",
      "24/24 [==============================] - 0s 18ms/step - loss: 0.5523 - accuracy: 0.8429 - val_loss: 0.5314 - val_accuracy: 0.9024\n",
      "Epoch 35/100\n",
      "24/24 [==============================] - 0s 18ms/step - loss: 0.5480 - accuracy: 0.8482 - val_loss: 0.5268 - val_accuracy: 0.9024\n",
      "Epoch 36/100\n",
      "24/24 [==============================] - 0s 19ms/step - loss: 0.5435 - accuracy: 0.8429 - val_loss: 0.5224 - val_accuracy: 0.9024\n",
      "Epoch 37/100\n",
      "24/24 [==============================] - 0s 6ms/step - loss: 0.5393 - accuracy: 0.8455 - val_loss: 0.5176 - val_accuracy: 0.9024\n",
      "Epoch 38/100\n",
      "24/24 [==============================] - 0s 5ms/step - loss: 0.5348 - accuracy: 0.8482 - val_loss: 0.5129 - val_accuracy: 0.9024\n",
      "Epoch 39/100\n",
      "24/24 [==============================] - 0s 12ms/step - loss: 0.5302 - accuracy: 0.8482 - val_loss: 0.5085 - val_accuracy: 0.9146\n",
      "Epoch 40/100\n",
      "24/24 [==============================] - 0s 9ms/step - loss: 0.5260 - accuracy: 0.8534 - val_loss: 0.5036 - val_accuracy: 0.9146\n",
      "Epoch 41/100\n",
      "24/24 [==============================] - 0s 8ms/step - loss: 0.5217 - accuracy: 0.8560 - val_loss: 0.4987 - val_accuracy: 0.9146\n",
      "Epoch 42/100\n",
      "24/24 [==============================] - 0s 6ms/step - loss: 0.5173 - accuracy: 0.8534 - val_loss: 0.4943 - val_accuracy: 0.9146\n",
      "Epoch 43/100\n",
      "24/24 [==============================] - 0s 13ms/step - loss: 0.5130 - accuracy: 0.8586 - val_loss: 0.4895 - val_accuracy: 0.9146\n",
      "Epoch 44/100\n",
      "24/24 [==============================] - 0s 10ms/step - loss: 0.5086 - accuracy: 0.8534 - val_loss: 0.4848 - val_accuracy: 0.9146\n",
      "Epoch 45/100\n",
      "24/24 [==============================] - 1s 22ms/step - loss: 0.5043 - accuracy: 0.8665 - val_loss: 0.4810 - val_accuracy: 0.9268\n",
      "Epoch 46/100\n",
      "24/24 [==============================] - 0s 16ms/step - loss: 0.4998 - accuracy: 0.8639 - val_loss: 0.4761 - val_accuracy: 0.9268\n",
      "Epoch 47/100\n",
      "24/24 [==============================] - 0s 15ms/step - loss: 0.4957 - accuracy: 0.8665 - val_loss: 0.4711 - val_accuracy: 0.9268\n",
      "Epoch 48/100\n",
      "24/24 [==============================] - 0s 10ms/step - loss: 0.4914 - accuracy: 0.8665 - val_loss: 0.4655 - val_accuracy: 0.9268\n",
      "Epoch 49/100\n",
      "24/24 [==============================] - 0s 16ms/step - loss: 0.4874 - accuracy: 0.8639 - val_loss: 0.4615 - val_accuracy: 0.9268\n",
      "Epoch 50/100\n",
      "24/24 [==============================] - 0s 16ms/step - loss: 0.4831 - accuracy: 0.8691 - val_loss: 0.4571 - val_accuracy: 0.9390\n",
      "Epoch 51/100\n",
      "24/24 [==============================] - 0s 7ms/step - loss: 0.4791 - accuracy: 0.8691 - val_loss: 0.4523 - val_accuracy: 0.9390\n",
      "Epoch 52/100\n",
      "24/24 [==============================] - 0s 17ms/step - loss: 0.4749 - accuracy: 0.8743 - val_loss: 0.4477 - val_accuracy: 0.9390\n",
      "Epoch 53/100\n",
      "24/24 [==============================] - 0s 11ms/step - loss: 0.4706 - accuracy: 0.8717 - val_loss: 0.4440 - val_accuracy: 0.9390\n",
      "Epoch 54/100\n",
      "24/24 [==============================] - 0s 14ms/step - loss: 0.4670 - accuracy: 0.8717 - val_loss: 0.4394 - val_accuracy: 0.9390\n",
      "Epoch 55/100\n",
      "24/24 [==============================] - 0s 15ms/step - loss: 0.4628 - accuracy: 0.8770 - val_loss: 0.4355 - val_accuracy: 0.9390\n",
      "Epoch 56/100\n",
      "24/24 [==============================] - 0s 8ms/step - loss: 0.4590 - accuracy: 0.8717 - val_loss: 0.4307 - val_accuracy: 0.9390\n",
      "Epoch 57/100\n",
      "24/24 [==============================] - 0s 14ms/step - loss: 0.4548 - accuracy: 0.8848 - val_loss: 0.4273 - val_accuracy: 0.9268\n",
      "Epoch 58/100\n",
      "24/24 [==============================] - 0s 8ms/step - loss: 0.4513 - accuracy: 0.8770 - val_loss: 0.4234 - val_accuracy: 0.9268\n",
      "Epoch 59/100\n",
      "24/24 [==============================] - 0s 9ms/step - loss: 0.4475 - accuracy: 0.8743 - val_loss: 0.4190 - val_accuracy: 0.9268\n",
      "Epoch 60/100\n",
      "24/24 [==============================] - 0s 5ms/step - loss: 0.4436 - accuracy: 0.8743 - val_loss: 0.4140 - val_accuracy: 0.9268\n",
      "Epoch 61/100\n",
      "24/24 [==============================] - 0s 10ms/step - loss: 0.4402 - accuracy: 0.8770 - val_loss: 0.4095 - val_accuracy: 0.9268\n",
      "Epoch 62/100\n",
      "24/24 [==============================] - 0s 5ms/step - loss: 0.4365 - accuracy: 0.8796 - val_loss: 0.4059 - val_accuracy: 0.9268\n",
      "Epoch 63/100\n",
      "24/24 [==============================] - 0s 6ms/step - loss: 0.4327 - accuracy: 0.8796 - val_loss: 0.4029 - val_accuracy: 0.9268\n",
      "Epoch 64/100\n",
      "24/24 [==============================] - 0s 6ms/step - loss: 0.4294 - accuracy: 0.8796 - val_loss: 0.3992 - val_accuracy: 0.9268\n",
      "Epoch 65/100\n",
      "24/24 [==============================] - 0s 5ms/step - loss: 0.4260 - accuracy: 0.8796 - val_loss: 0.3951 - val_accuracy: 0.9268\n",
      "Epoch 66/100\n",
      "24/24 [==============================] - 0s 6ms/step - loss: 0.4226 - accuracy: 0.8796 - val_loss: 0.3900 - val_accuracy: 0.9268\n",
      "Epoch 67/100\n",
      "24/24 [==============================] - 0s 8ms/step - loss: 0.4192 - accuracy: 0.8822 - val_loss: 0.3867 - val_accuracy: 0.9268\n",
      "Epoch 68/100\n",
      "24/24 [==============================] - 0s 8ms/step - loss: 0.4161 - accuracy: 0.8770 - val_loss: 0.3829 - val_accuracy: 0.9268\n",
      "Epoch 69/100\n",
      "24/24 [==============================] - 0s 8ms/step - loss: 0.4128 - accuracy: 0.8796 - val_loss: 0.3796 - val_accuracy: 0.9268\n",
      "Epoch 70/100\n",
      "24/24 [==============================] - 0s 6ms/step - loss: 0.4097 - accuracy: 0.8743 - val_loss: 0.3761 - val_accuracy: 0.9268\n",
      "Epoch 71/100\n",
      "24/24 [==============================] - 0s 8ms/step - loss: 0.4065 - accuracy: 0.8770 - val_loss: 0.3730 - val_accuracy: 0.9268\n",
      "Epoch 72/100\n",
      "24/24 [==============================] - 0s 5ms/step - loss: 0.4033 - accuracy: 0.8796 - val_loss: 0.3690 - val_accuracy: 0.9268\n",
      "Epoch 73/100\n",
      "24/24 [==============================] - 0s 6ms/step - loss: 0.4006 - accuracy: 0.8822 - val_loss: 0.3658 - val_accuracy: 0.9268\n",
      "Epoch 74/100\n",
      "24/24 [==============================] - 0s 7ms/step - loss: 0.3974 - accuracy: 0.8796 - val_loss: 0.3622 - val_accuracy: 0.9268\n",
      "Epoch 75/100\n",
      "24/24 [==============================] - 0s 6ms/step - loss: 0.3945 - accuracy: 0.8848 - val_loss: 0.3585 - val_accuracy: 0.9268\n",
      "Epoch 76/100\n",
      "24/24 [==============================] - 0s 9ms/step - loss: 0.3918 - accuracy: 0.8848 - val_loss: 0.3557 - val_accuracy: 0.9268\n",
      "Epoch 77/100\n",
      "24/24 [==============================] - 0s 6ms/step - loss: 0.3890 - accuracy: 0.8796 - val_loss: 0.3524 - val_accuracy: 0.9268\n",
      "Epoch 78/100\n",
      "24/24 [==============================] - 0s 5ms/step - loss: 0.3862 - accuracy: 0.8822 - val_loss: 0.3506 - val_accuracy: 0.9268\n",
      "Epoch 79/100\n",
      "24/24 [==============================] - 0s 13ms/step - loss: 0.3837 - accuracy: 0.8848 - val_loss: 0.3473 - val_accuracy: 0.9268\n",
      "Epoch 80/100\n",
      "24/24 [==============================] - 0s 6ms/step - loss: 0.3809 - accuracy: 0.8822 - val_loss: 0.3438 - val_accuracy: 0.9268\n",
      "Epoch 81/100\n",
      "24/24 [==============================] - 0s 8ms/step - loss: 0.3786 - accuracy: 0.8848 - val_loss: 0.3407 - val_accuracy: 0.9268\n",
      "Epoch 82/100\n",
      "24/24 [==============================] - 0s 8ms/step - loss: 0.3760 - accuracy: 0.8822 - val_loss: 0.3383 - val_accuracy: 0.9268\n",
      "Epoch 83/100\n",
      "24/24 [==============================] - 0s 7ms/step - loss: 0.3734 - accuracy: 0.8796 - val_loss: 0.3357 - val_accuracy: 0.9268\n",
      "Epoch 84/100\n",
      "24/24 [==============================] - 0s 8ms/step - loss: 0.3711 - accuracy: 0.8822 - val_loss: 0.3334 - val_accuracy: 0.9268\n",
      "Epoch 85/100\n",
      "24/24 [==============================] - 0s 8ms/step - loss: 0.3689 - accuracy: 0.8796 - val_loss: 0.3302 - val_accuracy: 0.9268\n",
      "Epoch 86/100\n",
      "24/24 [==============================] - 0s 9ms/step - loss: 0.3663 - accuracy: 0.8848 - val_loss: 0.3273 - val_accuracy: 0.9268\n",
      "Epoch 87/100\n",
      "24/24 [==============================] - 0s 6ms/step - loss: 0.3643 - accuracy: 0.8796 - val_loss: 0.3245 - val_accuracy: 0.9268\n",
      "Epoch 88/100\n",
      "24/24 [==============================] - 0s 6ms/step - loss: 0.3620 - accuracy: 0.8848 - val_loss: 0.3227 - val_accuracy: 0.9268\n",
      "Epoch 89/100\n",
      "24/24 [==============================] - 0s 8ms/step - loss: 0.3597 - accuracy: 0.8848 - val_loss: 0.3212 - val_accuracy: 0.9268\n",
      "Epoch 90/100\n",
      "24/24 [==============================] - 0s 7ms/step - loss: 0.3576 - accuracy: 0.8822 - val_loss: 0.3176 - val_accuracy: 0.9268\n",
      "Epoch 91/100\n",
      "24/24 [==============================] - 0s 8ms/step - loss: 0.3558 - accuracy: 0.8901 - val_loss: 0.3154 - val_accuracy: 0.9268\n",
      "Epoch 92/100\n",
      "24/24 [==============================] - 0s 6ms/step - loss: 0.3534 - accuracy: 0.8874 - val_loss: 0.3127 - val_accuracy: 0.9268\n",
      "Epoch 93/100\n",
      "24/24 [==============================] - ETA: 0s - loss: 0.3579 - accuracy: 0.88 - 0s 8ms/step - loss: 0.3517 - accuracy: 0.8874 - val_loss: 0.3102 - val_accuracy: 0.9268\n",
      "Epoch 94/100\n",
      "24/24 [==============================] - 0s 7ms/step - loss: 0.3497 - accuracy: 0.8874 - val_loss: 0.3093 - val_accuracy: 0.9268\n",
      "Epoch 95/100\n",
      "24/24 [==============================] - 0s 7ms/step - loss: 0.3477 - accuracy: 0.8874 - val_loss: 0.3068 - val_accuracy: 0.9268\n",
      "Epoch 96/100\n",
      "24/24 [==============================] - 0s 6ms/step - loss: 0.3458 - accuracy: 0.8927 - val_loss: 0.3051 - val_accuracy: 0.9268\n",
      "Epoch 97/100\n",
      "24/24 [==============================] - 0s 11ms/step - loss: 0.3444 - accuracy: 0.8848 - val_loss: 0.3021 - val_accuracy: 0.9268\n",
      "Epoch 98/100\n",
      "24/24 [==============================] - 0s 11ms/step - loss: 0.3420 - accuracy: 0.8874 - val_loss: 0.2990 - val_accuracy: 0.9268\n",
      "Epoch 99/100\n",
      "24/24 [==============================] - 0s 10ms/step - loss: 0.3401 - accuracy: 0.8874 - val_loss: 0.2960 - val_accuracy: 0.9268\n",
      "Epoch 100/100\n",
      "24/24 [==============================] - 0s 8ms/step - loss: 0.3389 - accuracy: 0.8874 - val_loss: 0.2946 - val_accuracy: 0.9268\n"
     ]
    }
   ],
   "source": [
    "hist = model.fit(X_train, Y_train,\n",
    "          batch_size=16, epochs=100,\n",
    "          validation_data=(X_val, Y_val))"
   ]
  },
  {
   "cell_type": "markdown",
   "metadata": {},
   "source": [
    "You have a strong model if your test accuracy is between 80% and 95%. \n",
    "* Above 95%, you likely overfit the model.\n",
    "* Below 80%, the model didn't capture enough of the data's variability."
   ]
  },
  {
   "cell_type": "code",
   "execution_count": 16,
   "metadata": {},
   "outputs": [
    {
     "name": "stdout",
     "output_type": "stream",
     "text": [
      "3/3 [==============================] - 0s 3ms/step - loss: 0.3672 - accuracy: 0.8072\n"
     ]
    },
    {
     "data": {
      "text/plain": [
       "0.8072289228439331"
      ]
     },
     "execution_count": 16,
     "metadata": {},
     "output_type": "execute_result"
    }
   ],
   "source": [
    "model.evaluate(X_test, Y_test)[1] #0 = loss, 1 = accuracy"
   ]
  },
  {
   "cell_type": "code",
   "execution_count": 17,
   "metadata": {},
   "outputs": [],
   "source": [
    "import matplotlib.pyplot as plt"
   ]
  },
  {
   "cell_type": "code",
   "execution_count": 18,
   "metadata": {},
   "outputs": [
    {
     "data": {
      "image/png": "[encoded data removed]",
      "text/plain": [
       "<Figure size 432x288 with 1 Axes>"
      ]
     },
     "metadata": {
      "needs_background": "light"
     },
     "output_type": "display_data"
    }
   ],
   "source": [
    "plt.plot(hist.history['loss'])\n",
    "plt.plot(hist.history['val_loss'])\n",
    "plt.title('Model loss')\n",
    "plt.ylabel('Loss')\n",
    "plt.xlabel('Epoch')\n",
    "plt.legend(['Train', 'Val'], loc='upper right')\n",
    "plt.show()"
   ]
  },
  {
   "cell_type": "code",
   "execution_count": 19,
   "metadata": {},
   "outputs": [
    {
     "data": {
      "image/png": "[encoded data removed]",
      "text/plain": [
       "<Figure size 432x288 with 1 Axes>"
      ]
     },
     "metadata": {
      "needs_background": "light"
     },
     "output_type": "display_data"
    }
   ],
   "source": [
    "plt.plot(hist.history['accuracy'])\n",
    "plt.plot(hist.history['val_accuracy'])\n",
    "plt.title('Model accuracy')\n",
    "plt.ylabel('Accuracy')\n",
    "plt.xlabel('Epoch')\n",
    "plt.legend(['Train', 'Val'], loc='lower right')\n",
    "plt.show()"
   ]
  },
  {
   "cell_type": "markdown",
   "metadata": {},
   "source": [
    "## Making Predictions\n",
    "Predict whether a house with the following characteristics is above or below the average price.\n",
    "* Bedrooms: 4\n",
    "* Square Feet: 2,500\n",
    "* Year Built: 2001\n",
    "* Garage Spaces: 2\n",
    "* Full Bathrooms: 3\n",
    "* Half Bathrooms: 1\n",
    "* Lot Size: 3,452 Square Feet"
   ]
  },
  {
   "cell_type": "code",
   "execution_count": 20,
   "metadata": {},
   "outputs": [
    {
     "name": "stdout",
     "output_type": "stream",
     "text": [
      "[1.]\n"
     ]
    }
   ],
   "source": [
    "x = [[4, 2500, 2001, 2, 3, 1, 3452]] \n",
    "print(model.predict(x)[0])"
   ]
  },
  {
   "cell_type": "markdown",
   "metadata": {},
   "source": [
    "# Summary"
   ]
  },
  {
   "cell_type": "markdown",
   "metadata": {},
   "source": [
    "* Keras is an easy to use, well-known library for constructing neural networks in Python.\n",
    "* It was designed with a user-friendly API with easy to decipher error messages.\n",
    "* Neural Networks emulate human pattern-recognition skills to analyze large datasets (particularly nonlinear responses)."
   ]
  },
  {
   "cell_type": "code",
   "execution_count": null,
   "metadata": {},
   "outputs": [],
   "source": []
  }
 ],
 "metadata": {
  "kernelspec": {
   "display_name": "Python 3 (ipykernel)",
   "language": "python",
   "name": "python3"
  },
  "language_info": {
   "codemirror_mode": {
    "name": "ipython",
    "version": 3
   },
   "file_extension": ".py",
   "mimetype": "text/x-python",
   "name": "python",
   "nbconvert_exporter": "python",
   "pygments_lexer": "ipython3",
   "version": "3.9.7"
  }
 },
 "nbformat": 4,
 "nbformat_minor": 4
}
